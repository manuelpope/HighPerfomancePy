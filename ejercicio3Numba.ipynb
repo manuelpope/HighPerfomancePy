{
  "nbformat": 4,
  "nbformat_minor": 0,
  "metadata": {
    "colab": {
      "name": "ejercicio3Numba.ipynb",
      "provenance": [],
      "collapsed_sections": [],
      "authorship_tag": "ABX9TyNHA2bATfLwlzbzdlIBm0xc",
      "include_colab_link": true
    },
    "kernelspec": {
      "name": "python3",
      "display_name": "Python 3"
    },
    "accelerator": "GPU"
  },
  "cells": [
    {
      "cell_type": "markdown",
      "metadata": {
        "id": "view-in-github",
        "colab_type": "text"
      },
      "source": [
        "<a href=\"https://colab.research.google.com/github/manuelpope/HighPerfomancePy/blob/master/ejercicio3Numba.ipynb\" target=\"_parent\"><img src=\"https://colab.research.google.com/assets/colab-badge.svg\" alt=\"Open In Colab\"/></a>"
      ]
    },
    {
      "cell_type": "code",
      "metadata": {
        "id": "aHtSB2Xw1drh",
        "colab_type": "code",
        "outputId": "0fd5798f-949d-484e-ab5c-73b5894be71b",
        "colab": {
          "base_uri": "https://localhost:8080/",
          "height": 323
        }
      },
      "source": [
        "from numba import jit,vectorize,int64\n",
        "from numba import cuda\n",
        "import numpy as np\n",
        "\n",
        "\n",
        "def factorial(n):\n",
        "  fact = 1\n",
        "  for x in range (0,n):\n",
        "      fact= fact *n\n",
        "  return fact\n",
        "\n",
        "\n",
        "#%timeit factorial(100000)\n",
        "\n",
        "@jit(parallel=True)\n",
        "def factorialNumba(n):\n",
        "  fact = 1\n",
        "  for x in range (0,n):\n",
        "      fact= fact *n\n",
        "  return fact\n",
        "\n",
        "\n",
        "\n",
        "\n",
        "#%timeit factorialNumba(100000)\n",
        "@jit(parallel = True)\n",
        "def doSomeOp(x,y,z):\n",
        "  return np.add(np.add(x,y),z)\n",
        "\n",
        "x= np.array([elem for elem in range(1,6)])\n",
        "y1=[elem for elem in range(6,11)]\n",
        "y2=[elem for elem in range(1,6)]\n",
        "listY= [y1+y2]\n",
        "y= np.array([listY]).reshape(2,5)\n",
        "z= np.array([elem for elem in range(12,18)])\n",
        "c=100\n",
        "\n",
        "\n",
        "print(\"----------------Testin' jit parallel \" + '\\n')\n",
        "%timeit doSomeOp(x,y,c)\n",
        "\n",
        "#Eaguer Compilation\n",
        "#@vectorize(['int64(int64,int64,int64)'],target='cuda')\n",
        "@vectorize([int64(int64,int64,int64)])\n",
        "def doSomeOp_vec(x,y,z):\n",
        "  #return x+y+c\n",
        "  return np.add(np.add(x,y),z)\n",
        "print('\\n')\n",
        "print(\"---------------Testin' vector parallel eager\"+ '\\n')\n",
        "%timeit doSomeOp_vec(x,y,c)\n",
        "\n",
        "\n",
        "\n",
        "#Lazy Compilation\n",
        "@vectorize\n",
        "def doSomeOp_vecLazy(x,y,z):\n",
        "  return np.add(np.add(x,y),z)\n",
        "print('\\n')\n",
        "print(\"-------------Testin' vector parallel lazy\"+'\\n')\n",
        "%timeit doSomeOp_vecLazy(x,y,c)\n"
      ],
      "execution_count": 5,
      "outputs": [
        {
          "output_type": "stream",
          "text": [
            "----------------Testin' jit parallel \n",
            "\n",
            "The slowest run took 40775.70 times longer than the fastest. This could mean that an intermediate result is being cached.\n",
            "1 loop, best of 3: 25.4 µs per loop\n",
            "\n",
            "\n",
            "---------------Testin' vector parallel eager\n",
            "\n",
            "The slowest run took 22.77 times longer than the fastest. This could mean that an intermediate result is being cached.\n",
            "1000000 loops, best of 3: 1.49 µs per loop\n",
            "\n",
            "\n",
            "-------------Testin' vector parallel lazy\n",
            "\n",
            "The slowest run took 34952.36 times longer than the fastest. This could mean that an intermediate result is being cached.\n",
            "1000000 loops, best of 3: 1.52 µs per loop\n"
          ],
          "name": "stdout"
        }
      ]
    }
  ]
}